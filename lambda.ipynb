{
 "cells": [
  {
   "cell_type": "markdown",
   "metadata": {},
   "source": [
    "## $\\lambda$ calculus\n",
    "\n",
    "Here  is a Python notebook to play with the lamdba calculus and  evaluate lambda expressions of the form `λvar1.(exp1) λvar2.(exp2) ...`. If you don't know Python you can safely ignore the Ptyhon code and skip below to where we actually talk about the $\\lambda$ calculus itself.\n",
    "\n",
    "One note is that the code is quite sensitive to spaces and parenthesis placements. In particular because, following [Matt Might](http://matt.might.net/articles/python-church-y-combinator/), we'll use Python's lambda expressions mechanisms, we'll need to wrap everything with extra parenthesis. \n",
    "\n",
    "You can  find better lambda evaluators online such as [this one](https://people.eecs.berkeley.edu/~gongliang13/lambda/) \n",
    "\n",
    "There are also some annoying issues due to the fact that Python is an _eager_ language which means that if we have a lambda expression such as $(\\lambda x,y.x) (e)(f)$ then Python will evaluate $f$ even though it is not necessary for the computation. It is probably easy to avoid this (indeed maybe even using Matt Might's ideas above) but at the moment I just used a simple hack to handle this (which unfortuantely does not work for the Y combinator yet)"
   ]
  },
  {
   "cell_type": "markdown",
   "metadata": {},
   "source": [
    "If you want to use the λ character you can copy paste it from here:  λ"
   ]
  },
  {
   "cell_type": "code",
   "execution_count": 1,
   "metadata": {
    "collapsed": true
   },
   "outputs": [],
   "source": [
    "# convert lambda expression to python code\n",
    "# all it amounts to is replacing λ with lambda and . with :\n",
    "def ltop(exp):\n",
    "    return eval(\"(\"+exp.replace('λ','lambda ').replace('.',': ')+\")\")\n",
    "        \n",
    "# evaluate whether Python code  corresponds to 0 or 1\n",
    "def boolp(code): \n",
    "    res = code(\"first\")(\"second\") \n",
    "    if res=='first': return 1\n",
    "    if res=='second': return 0\n",
    "    return code"
   ]
  },
  {
   "cell_type": "markdown",
   "metadata": {},
   "source": [
    "OK now that we got Python out of the way, let us play with this and see if it works"
   ]
  },
  {
   "cell_type": "code",
   "execution_count": 2,
   "metadata": {},
   "outputs": [
    {
     "data": {
      "text/plain": [
       "'world'"
      ]
     },
     "execution_count": 2,
     "metadata": {},
     "output_type": "execute_result"
    }
   ],
   "source": [
    "ltop(\"(λx.(λy.(y)))  ('hello')('world')\")"
   ]
  },
  {
   "cell_type": "code",
   "execution_count": 38,
   "metadata": {
    "collapsed": true
   },
   "outputs": [],
   "source": [
    "one  = ltop(\"λx.(λy.(x))\")\n",
    "zero = ltop(\"λx.(λy.(y))\") "
   ]
  },
  {
   "cell_type": "code",
   "execution_count": 39,
   "metadata": {},
   "outputs": [
    {
     "data": {
      "text/plain": [
       "'first'"
      ]
     },
     "execution_count": 39,
     "metadata": {},
     "output_type": "execute_result"
    }
   ],
   "source": [
    "one(\"first\")(\"second\")"
   ]
  },
  {
   "cell_type": "markdown",
   "metadata": {},
   "source": [
    "Recall the following question from lecture:\n",
    "\n",
    "We had the following question:\n",
    "\n",
    "__Question:__ Suppose that $F = \\lambda f. (\\lambda x. (f x)f)$, $1 = \\lambda x.(\\lambda y.x)$ and $0=\\lambda x.(\\lambda y.y)$.\n",
    "What is $F \\; 1\\; 0$?\n",
    "\n",
    "__a.__ $1$\n",
    "\n",
    "__b.__ $0$\n",
    "\n",
    "__c.__ $\\lambda x.1$\n",
    "\n",
    "__d.__ $\\lambda x.0$"
   ]
  },
  {
   "cell_type": "markdown",
   "metadata": {},
   "source": [
    "Let's evaluate the answer"
   ]
  },
  {
   "cell_type": "code",
   "execution_count": 5,
   "metadata": {
    "collapsed": true
   },
   "outputs": [],
   "source": [
    "mystery=ltop(\"(λf.(λx.((f (x) (f)))))\")"
   ]
  },
  {
   "cell_type": "code",
   "execution_count": 6,
   "metadata": {},
   "outputs": [
    {
     "data": {
      "text/plain": [
       "<function __main__.<lambda>>"
      ]
     },
     "execution_count": 6,
     "metadata": {},
     "output_type": "execute_result"
    }
   ],
   "source": [
    "mystery (one)(zero)"
   ]
  },
  {
   "cell_type": "markdown",
   "metadata": {},
   "source": [
    "This is not very informative, but we can test if this is the zero function $\\lambda x,y.y$ or the one function $\\lambda y,x.y$ or something else"
   ]
  },
  {
   "cell_type": "code",
   "execution_count": 7,
   "metadata": {},
   "outputs": [
    {
     "data": {
      "text/plain": [
       "0"
      ]
     },
     "execution_count": 7,
     "metadata": {},
     "output_type": "execute_result"
    }
   ],
   "source": [
    "boolp(_)"
   ]
  },
  {
   "cell_type": "code",
   "execution_count": 8,
   "metadata": {
    "collapsed": true
   },
   "outputs": [],
   "source": [
    "NIL=ltop(\"λf.(one)\")\n",
    "PAIR =ltop(\"λx.(λy.(λf.((f (x)) (y))))\")\n",
    "ISEMPTY=ltop(\"λP.(P (λx.(λy.(zero))))\")\n",
    "HEAD = ltop(\"λP.(P (one))\")\n",
    "TAIL  =ltop(\"λP.(P (zero))\")"
   ]
  },
  {
   "cell_type": "code",
   "execution_count": 9,
   "metadata": {},
   "outputs": [
    {
     "data": {
      "text/plain": [
       "1"
      ]
     },
     "execution_count": 9,
     "metadata": {},
     "output_type": "execute_result"
    }
   ],
   "source": [
    "boolp(ISEMPTY(NIL))"
   ]
  },
  {
   "cell_type": "code",
   "execution_count": 10,
   "metadata": {},
   "outputs": [
    {
     "data": {
      "text/plain": [
       "'first'"
      ]
     },
     "execution_count": 10,
     "metadata": {},
     "output_type": "execute_result"
    }
   ],
   "source": [
    "HEAD(PAIR(\"first\")(\"second\"))"
   ]
  },
  {
   "cell_type": "markdown",
   "metadata": {},
   "source": [
    "Now let's try something a little more interesting"
   ]
  },
  {
   "cell_type": "markdown",
   "metadata": {},
   "source": [
    "Recall that we defined\n",
    "\n",
    "$$APAR \\;\\;\\;  = \\lambda f,L. (ISNIL \\; L)\\; 0 \\; (XOR \\; (HEAD \\; L) \\; (f \\; f \\; (TAIL \\; L)) \\color{green}{(**)}$$\n",
    "\n",
    "and claimed that $APAR \\; APAR$ (i.e., $APAR$ applied to itself) is the parity function. Let's try this out"
   ]
  },
  {
   "cell_type": "markdown",
   "metadata": {},
   "source": [
    "The following is the definition of XOR - can you see why?"
   ]
  },
  {
   "cell_type": "code",
   "execution_count": 40,
   "metadata": {
    "collapsed": true
   },
   "outputs": [],
   "source": [
    "XOR = ltop(\"λa.(λb.(a (b (zero) (one)) (b)))\")"
   ]
  },
  {
   "cell_type": "code",
   "execution_count": 12,
   "metadata": {},
   "outputs": [
    {
     "data": {
      "text/plain": [
       "0"
      ]
     },
     "execution_count": 12,
     "metadata": {},
     "output_type": "execute_result"
    }
   ],
   "source": [
    "boolp(XOR(one)(one))"
   ]
  },
  {
   "cell_type": "code",
   "execution_count": 41,
   "metadata": {
    "collapsed": true
   },
   "outputs": [],
   "source": [
    "APAR=ltop(\"λf.(λL.((ISEMPTY (L)) (zero) (XOR (HEAD (L) ) ((f (f)  ) (TAIL (L) )))))\")"
   ]
  },
  {
   "cell_type": "markdown",
   "metadata": {},
   "source": []
  },
  {
   "cell_type": "markdown",
   "metadata": {},
   "source": [
    "The code we used for `ltop` above works perfectly fine for non recursive functions. However, because Python is an \"eager\" programming language, we have to be a little more careful in programming functions that do not necessarily halt. Below is a very crude hack where we simply stop the recursion if it goes on too deep, with the hope that we'll never care about the result of this branch. If you have a simpler/better way to do it, then please let me know.\n",
    "\n",
    "Please skip ahead and ignore this cell: this is about details that are more specific to Python than to the λ calculus.\n",
    "\n",
    "If you actually run this notebook, you'd want to use this definition of `ltop` and rerun all the cells above using it."
   ]
  },
  {
   "cell_type": "code",
   "execution_count": 327,
   "metadata": {
    "collapsed": true
   },
   "outputs": [],
   "source": [
    "# a little fancier version of ltop that keeps track of the lambda expression\n",
    "# you can safely ignore this code\n",
    "import inspect\n",
    "\n",
    "from inspect import getouterframes, currentframe\n",
    "\n",
    "MAX_RECURSION_DEPTH = 40\n",
    "\n",
    "\n",
    "def ltop(exp):\n",
    "    global MAX_RECURSION_DEPTH\n",
    "    code = eval(\"(\"+exp.replace('λ','lambda ').replace('.',': ')+\")\")\n",
    "    if not callable(code): return code\n",
    "    def myfunc(x):\n",
    "        # if len(getouterframes(currentframe())) > MAX_RECURSION_DEPTH: # chop off\n",
    "        if len(inspect.stack()) > MAX_RECURSION_DEPTH:\n",
    "            return lambda x: (lambda y: y)\n",
    "        return code(x)\n",
    "    myfunc.lambdaexp = exp\n",
    "    return myfunc"
   ]
  },
  {
   "cell_type": "markdown",
   "metadata": {},
   "source": [
    "The following will be slow because Python will go into unnecessary branches of the recursion."
   ]
  },
  {
   "cell_type": "code",
   "execution_count": 42,
   "metadata": {
    "collapsed": true
   },
   "outputs": [],
   "source": [
    "par = APAR(APAR)"
   ]
  },
  {
   "cell_type": "code",
   "execution_count": 43,
   "metadata": {},
   "outputs": [
    {
     "data": {
      "text/plain": [
       "((<function __main__.<lambda>>, <function __main__.ltop.<locals>.myfunc>),\n",
       " <function __main__.<lambda>>)"
      ]
     },
     "execution_count": 43,
     "metadata": {},
     "output_type": "execute_result"
    }
   ],
   "source": [
    "par(NIL)"
   ]
  },
  {
   "cell_type": "markdown",
   "metadata": {},
   "source": [
    "But at least we get the correct answer (0):"
   ]
  },
  {
   "cell_type": "code",
   "execution_count": 47,
   "metadata": {},
   "outputs": [
    {
     "ename": "TypeError",
     "evalue": "'tuple' object is not callable",
     "output_type": "error",
     "traceback": [
      "\u001b[1;31m---------------------------------------------------------------------------\u001b[0m",
      "\u001b[1;31mTypeError\u001b[0m                                 Traceback (most recent call last)",
      "\u001b[1;32m<ipython-input-47-bd78a405ecbd>\u001b[0m in \u001b[0;36m<module>\u001b[1;34m()\u001b[0m\n\u001b[1;32m----> 1\u001b[1;33m \u001b[0mevaluate\u001b[0m\u001b[1;33m(\u001b[0m\u001b[1;33m(\u001b[0m\u001b[0mAPAR\u001b[0m \u001b[1;33m(\u001b[0m\u001b[0mAPAR\u001b[0m\u001b[1;33m)\u001b[0m\u001b[1;33m)\u001b[0m\u001b[1;33m(\u001b[0m\u001b[0mNIL\u001b[0m\u001b[1;33m)\u001b[0m\u001b[1;33m(\u001b[0m\u001b[1;34m\"first\"\u001b[0m\u001b[1;33m)\u001b[0m\u001b[1;33m(\u001b[0m\u001b[1;34m\"second\"\u001b[0m\u001b[1;33m)\u001b[0m\u001b[1;33m)\u001b[0m\u001b[1;33m\u001b[0m\u001b[0m\n\u001b[0m",
      "\u001b[1;31mTypeError\u001b[0m: 'tuple' object is not callable"
     ]
    }
   ],
   "source": [
    "evaluate((APAR (APAR))(NIL)(\"first\")(\"second\"))"
   ]
  },
  {
   "cell_type": "code",
   "execution_count": null,
   "metadata": {
    "collapsed": true
   },
   "outputs": [],
   "source": []
  },
  {
   "cell_type": "markdown",
   "metadata": {},
   "source": [
    "Similarly we get the correct answers for the list $(1)$ and $(1,1)$, see below:"
   ]
  },
  {
   "cell_type": "code",
   "execution_count": 214,
   "metadata": {},
   "outputs": [
    {
     "data": {
      "text/plain": [
       "1"
      ]
     },
     "execution_count": 214,
     "metadata": {},
     "output_type": "execute_result"
    }
   ],
   "source": [
    "boolp(par (PAIR(one)(NIL)))"
   ]
  },
  {
   "cell_type": "code",
   "execution_count": 215,
   "metadata": {},
   "outputs": [
    {
     "data": {
      "text/plain": [
       "0"
      ]
     },
     "execution_count": 215,
     "metadata": {},
     "output_type": "execute_result"
    }
   ],
   "source": [
    "boolp(par (PAIR(one)(PAIR (one)(NIL) )))"
   ]
  },
  {
   "cell_type": "markdown",
   "metadata": {},
   "source": [
    "The cells below correspond to a rough and still buggy part of the notebook. Feel free to ignore, and if you are a Python expert, feel free to tell me how to fix this."
   ]
  },
  {
   "cell_type": "code",
   "execution_count": null,
   "metadata": {
    "collapsed": true
   },
   "outputs": [],
   "source": []
  },
  {
   "cell_type": "code",
   "execution_count": null,
   "metadata": {
    "collapsed": true
   },
   "outputs": [],
   "source": []
  },
  {
   "cell_type": "code",
   "execution_count": null,
   "metadata": {
    "collapsed": true
   },
   "outputs": [],
   "source": []
  },
  {
   "cell_type": "code",
   "execution_count": null,
   "metadata": {
    "collapsed": true
   },
   "outputs": [],
   "source": []
  },
  {
   "cell_type": "code",
   "execution_count": null,
   "metadata": {
    "collapsed": true
   },
   "outputs": [],
   "source": []
  },
  {
   "cell_type": "markdown",
   "metadata": {},
   "source": [
    "Let's try to see if we can avoid some of these issues by defining IF which will do the \"shortcut\" evaluation "
   ]
  },
  {
   "cell_type": "code",
   "execution_count": 284,
   "metadata": {
    "collapsed": true
   },
   "outputs": [],
   "source": [
    "IF = ltop(\"λf.(λx.(λy.((f (λignore.x) (λignore.y)) (zero)  )))\") \n",
    "#lambda f: lambda x: lambda y: (f (lambda ignore: x) (lambda ignore: y))(\"nonsense\")"
   ]
  },
  {
   "cell_type": "code",
   "execution_count": 285,
   "metadata": {},
   "outputs": [
    {
     "data": {
      "text/plain": [
       "'world'"
      ]
     },
     "execution_count": 285,
     "metadata": {},
     "output_type": "execute_result"
    }
   ],
   "source": [
    "IF(zero)(\"hello\")(\"world\")"
   ]
  },
  {
   "cell_type": "code",
   "execution_count": 286,
   "metadata": {
    "collapsed": true
   },
   "outputs": [],
   "source": [
    "def nothalt():\n",
    "    x =0\n",
    "    while True:\n",
    "        x += 1"
   ]
  },
  {
   "cell_type": "code",
   "execution_count": 287,
   "metadata": {},
   "outputs": [
    {
     "data": {
      "text/plain": [
       "'hello'"
      ]
     },
     "execution_count": 287,
     "metadata": {},
     "output_type": "execute_result"
    }
   ],
   "source": [
    "IF(one)(\"hello\")(nothalt)"
   ]
  },
  {
   "cell_type": "code",
   "execution_count": 288,
   "metadata": {
    "collapsed": true
   },
   "outputs": [],
   "source": [
    "APAR=ltop(\"λf.(λL.(IF (ISEMPTY (L)) (zero) (XOR (HEAD (L) ) ((f (f)  ) (TAIL (L) )))))\")"
   ]
  },
  {
   "cell_type": "code",
   "execution_count": 289,
   "metadata": {},
   "outputs": [
    {
     "data": {
      "text/plain": [
       "<function __main__.ltop.<locals>.myfunc>"
      ]
     },
     "execution_count": 289,
     "metadata": {},
     "output_type": "execute_result"
    }
   ],
   "source": [
    " APAR(APAR)(NIL)"
   ]
  },
  {
   "cell_type": "code",
   "execution_count": 290,
   "metadata": {},
   "outputs": [
    {
     "data": {
      "text/plain": [
       "0"
      ]
     },
     "execution_count": 290,
     "metadata": {},
     "output_type": "execute_result"
    }
   ],
   "source": [
    "boolp(_)"
   ]
  },
  {
   "cell_type": "markdown",
   "metadata": {},
   "source": [
    "Wasn't any quicker but at least it's still correct. Let's now try to do the same thing via the Y combinator"
   ]
  },
  {
   "cell_type": "code",
   "execution_count": 291,
   "metadata": {
    "collapsed": true
   },
   "outputs": [],
   "source": [
    "PARREC = ltop(\"λf.(λL.((IF (ISEMPTY (L) ) (zero) (XOR (HEAD (L) ) (f (TAIL (L) ))))))\")"
   ]
  },
  {
   "cell_type": "code",
   "execution_count": 292,
   "metadata": {
    "collapsed": true
   },
   "outputs": [],
   "source": [
    "Y = ltop(\"λf.((λx.(f (x (x)) )) (λy.(f (y (y)  ))))\")"
   ]
  },
  {
   "cell_type": "code",
   "execution_count": 310,
   "metadata": {},
   "outputs": [
    {
     "ename": "RecursionError",
     "evalue": "maximum recursion depth exceeded",
     "output_type": "error",
     "traceback": [
      "\u001b[1;31m---------------------------------------------------------------------------\u001b[0m",
      "\u001b[1;31mRecursionError\u001b[0m                            Traceback (most recent call last)",
      "\u001b[1;32m<ipython-input-310-d1e7ed7fffee>\u001b[0m in \u001b[0;36m<module>\u001b[1;34m()\u001b[0m\n\u001b[1;32m----> 1\u001b[1;33m \u001b[0mpar\u001b[0m \u001b[1;33m=\u001b[0m \u001b[0mY\u001b[0m\u001b[1;33m(\u001b[0m\u001b[0mPARREC\u001b[0m\u001b[1;33m)\u001b[0m\u001b[1;33m\u001b[0m\u001b[0m\n\u001b[0m",
      "\u001b[1;32m<ipython-input-267-7b59671caeb1>\u001b[0m in \u001b[0;36mmyfunc\u001b[1;34m(x)\u001b[0m\n\u001b[0;32m     16\u001b[0m         \u001b[1;32mif\u001b[0m \u001b[0mlen\u001b[0m\u001b[1;33m(\u001b[0m\u001b[0minspect\u001b[0m\u001b[1;33m.\u001b[0m\u001b[0mstack\u001b[0m\u001b[1;33m(\u001b[0m\u001b[1;33m)\u001b[0m\u001b[1;33m)\u001b[0m \u001b[1;33m>\u001b[0m \u001b[0mMAX_RECURSION_DEPTH\u001b[0m\u001b[1;33m:\u001b[0m\u001b[1;33m\u001b[0m\u001b[0m\n\u001b[0;32m     17\u001b[0m             \u001b[1;32mreturn\u001b[0m \u001b[1;32mlambda\u001b[0m \u001b[0mx\u001b[0m\u001b[1;33m:\u001b[0m\u001b[0mx\u001b[0m\u001b[1;33m\u001b[0m\u001b[0m\n\u001b[1;32m---> 18\u001b[1;33m         \u001b[1;32mreturn\u001b[0m \u001b[0mcode\u001b[0m\u001b[1;33m(\u001b[0m\u001b[0mx\u001b[0m\u001b[1;33m)\u001b[0m\u001b[1;33m\u001b[0m\u001b[0m\n\u001b[0m\u001b[0;32m     19\u001b[0m     \u001b[0mmyfunc\u001b[0m\u001b[1;33m.\u001b[0m\u001b[0mlambdaexp\u001b[0m \u001b[1;33m=\u001b[0m \u001b[0mexp\u001b[0m\u001b[1;33m\u001b[0m\u001b[0m\n\u001b[0;32m     20\u001b[0m     \u001b[1;32mreturn\u001b[0m \u001b[0mmyfunc\u001b[0m\u001b[1;33m\u001b[0m\u001b[0m\n",
      "\u001b[1;32m<string>\u001b[0m in \u001b[0;36m<lambda>\u001b[1;34m(f)\u001b[0m\n",
      "... last 1 frames repeated, from the frame below ...\n",
      "\u001b[1;32m<string>\u001b[0m in \u001b[0;36m<lambda>\u001b[1;34m(x)\u001b[0m\n",
      "\u001b[1;31mRecursionError\u001b[0m: maximum recursion depth exceeded"
     ]
    }
   ],
   "source": [
    "par = Y(PARREC)"
   ]
  },
  {
   "cell_type": "markdown",
   "metadata": {},
   "source": [
    "Well, might need a better hack for handling recursion .. if anyone has suggestions please let me know..."
   ]
  },
  {
   "cell_type": "markdown",
   "metadata": {},
   "source": [
    "Please ignore the cells below, they are renmants from my attempt to evaluate the lambda expressions myself before I decided to use native Python"
   ]
  },
  {
   "cell_type": "code",
   "execution_count": null,
   "metadata": {
    "collapsed": true
   },
   "outputs": [],
   "source": []
  },
  {
   "cell_type": "code",
   "execution_count": null,
   "metadata": {
    "collapsed": true
   },
   "outputs": [],
   "source": []
  },
  {
   "cell_type": "code",
   "execution_count": null,
   "metadata": {
    "collapsed": true
   },
   "outputs": [],
   "source": []
  },
  {
   "cell_type": "code",
   "execution_count": null,
   "metadata": {
    "collapsed": true
   },
   "outputs": [],
   "source": []
  },
  {
   "cell_type": "code",
   "execution_count": null,
   "metadata": {
    "collapsed": true
   },
   "outputs": [],
   "source": []
  },
  {
   "cell_type": "code",
   "execution_count": null,
   "metadata": {
    "collapsed": true
   },
   "outputs": [],
   "source": []
  },
  {
   "cell_type": "code",
   "execution_count": null,
   "metadata": {
    "collapsed": true
   },
   "outputs": [],
   "source": []
  },
  {
   "cell_type": "code",
   "execution_count": 294,
   "metadata": {
    "collapsed": true
   },
   "outputs": [],
   "source": [
    "from inspect import getouterframes, currentframe # only for printing\n",
    "# import os\n",
    "\n",
    "import sys\n",
    "\n",
    "sys.setrecursionlimit(3000)\n",
    "\n",
    "OFFSET = len(getouterframes(currentframe()))    \n",
    "    \n",
    "\n",
    "def list_lambdas(exp):\n",
    "    if not exp: return []\n",
    "    exp = exp.strip()\n",
    "    #print(\"Expression is:\"+exp)\n",
    "    if not exp: return []\n",
    "    firstspace = exp.find(' ')\n",
    "    begin = exp.find('(')\n",
    "    if begin==-1 and firstspace==-1:\n",
    "        #print(exp+\"->\"+exp)\n",
    "        return [exp]\n",
    "    if (begin==-1) or (firstspace>-1 and firstspace<begin):\n",
    "        #print (exp + \"->\"+ str([exp[:firstspace]]+list_lambdas(exp[firstspace+1:])))\n",
    "        return [exp[:firstspace]]+list_lambdas(exp[firstspace+1:])\n",
    "    if begin>0 and exp[0]!='λ':\n",
    "        return [exp[:begin]]+list_lambdas(exp[begin:])\n",
    "    end = matchparen(exp,begin)\n",
    "    #print  (exp +\"->\"+str([exp[:end+1]] +list_lambdas(exp[end+1:])))\n",
    "    return [exp[:end+1]] +list_lambdas(exp[end+1:])\n",
    "    "
   ]
  },
  {
   "cell_type": "code",
   "execution_count": 3,
   "metadata": {
    "collapsed": true
   },
   "outputs": [],
   "source": [
    "uniquectr =0 \n",
    "\n",
    "def my_eval(exp,table={},debug=False):\n",
    "    def getunique():\n",
    "        global uniquectr\n",
    "        uniquectr +=1\n",
    "        return \"u<\"+str(uniquectr)+\">\"\n",
    "    \n",
    "    def pr(s):\n",
    "        if debug: print(\" \"*(4*(len(getouterframes(currentframe()))-OFFSET))+s)\n",
    "    # pr(exp)\n",
    "    L = list_lambdas(exp)\n",
    "    if len(L)==0: return \"\"\n",
    "    if len(L)>1: \n",
    "        func = L[0]\n",
    "        if is_lambda(func):\n",
    "            e = beta_reduce(func,L[1],table,debug)\n",
    "            if len(L)>2: return my_eval(e+\" \"+\" \".join(L[2:]),table,debug)\n",
    "            return e\n",
    "        func =  my_eval(L[0],table,debug)\n",
    "        if is_lambda(func):\n",
    "            return my_eval(func+\" \"+\" \".join(L[1:]),table,debug)\n",
    "        return func+\" \"+\" \".join([my_eval(tmp,table,debug) for tmp in L[1:]])\n",
    "    exp = L[0]\n",
    "\n",
    "    if exp in table:\n",
    "        newtable = dict(table)\n",
    "        del newtable[exp]\n",
    "        pr(exp+\"<-\"+table[exp])\n",
    "        return my_eval(table[exp],newtable,debug)\n",
    "\n",
    "    if exp[0]=='(':\n",
    "        return my_eval(is_paren(exp),table,debug)\n",
    "    if is_lambda(exp):\n",
    "        [var,subexp] = is_lambda(exp)\n",
    "        newtable = dict(table)\n",
    "        if var in newtable: del newtable[var]\n",
    "        return \"λ\"+var+\".(\"+my_eval(subexp,newtable,debug)+\")\"\n",
    "    \n",
    "    #if table:\n",
    "     #   [myexp,newtable,found] = replacevars(exp,table)\n",
    "     #   if found:\n",
    "     #       return my_eval(myexp,newtable,debug)\n",
    "    \n",
    "        pr(\"Unparsed: \"+exp)\n",
    "    return exp\n",
    "\n",
    "def beta_reduce(func,arg,table,debug):\n",
    "        \n",
    "    def pr(s):\n",
    "        if debug: print(\" \"*(4*(len(getouterframes(currentframe()))-OFFSET))+s)\n",
    "    \n",
    "    if not is_lambda(func): raise Exception()\n",
    "    \n",
    "    [var,subexp] = is_lambda(func)\n",
    "    newtable = dict(table)\n",
    "    \n",
    "    if len(list_lambdas(arg))>1:\n",
    "        arg = \"(\"+arg+\")\"\n",
    "    newtable[var] = arg\n",
    "    pr(subexp+\" [\"+var+\"->\"+arg+\"]...\")\n",
    "    res =  my_eval(subexp,newtable,debug)\n",
    "    pr(subexp+\"[\"+var+\"->\"+arg+ \"]  = \"+ res)\n",
    "    return res\n",
    "    \n",
    "def is_lambda(exp):\n",
    "    if exp[0]!='λ': return False\n",
    "    varend = exp.find('.')\n",
    "    begin  = varend+1\n",
    "    if exp[begin]=='(': \n",
    "        end = matchparen(exp,begin)\n",
    "    else:\n",
    "        begin = varend\n",
    "        end=len(exp)\n",
    "    var = exp[1:varend].strip()\n",
    "    subexp = exp[begin+1:end]\n",
    "    return [var,subexp] \n",
    "\n",
    "def is_paren(exp):\n",
    "    if exp[0]!='(': return False\n",
    "    end = matchparen(exp,0)\n",
    "    return exp[1:end]\n",
    "\n",
    "    \n",
    "    "
   ]
  },
  {
   "cell_type": "code",
   "execution_count": 4,
   "metadata": {
    "collapsed": true
   },
   "outputs": [],
   "source": []
  },
  {
   "cell_type": "code",
   "execution_count": 5,
   "metadata": {
    "collapsed": true
   },
   "outputs": [],
   "source": [
    "def matchparen(s,i):\n",
    "    depth = 1\n",
    "    if s[i]!='(': raise Exception()\n",
    "    j = i+1\n",
    "    while depth>0:\n",
    "        if s[j]=='(': depth += 1\n",
    "        if s[j]==')': depth -= 1\n",
    "        j += 1\n",
    "    if s[j-1]!=')': raise Exception()\n",
    "    return j-1"
   ]
  },
  {
   "cell_type": "code",
   "execution_count": 6,
   "metadata": {
    "collapsed": true
   },
   "outputs": [],
   "source": [
    "def replacevars(s,table):\n",
    "    newtable = dict(table)\n",
    "    found = False\n",
    "    for v in table:\n",
    "        if v!=table[v] and s.find(v)>-1:\n",
    "            s = s.replace(v,table[v])\n",
    "            del newtable[v]\n",
    "            found = True\n",
    "    return [s,newtable,found]"
   ]
  },
  {
   "cell_type": "code",
   "execution_count": 7,
   "metadata": {},
   "outputs": [
    {
     "name": "stdout",
     "output_type": "stream",
     "text": [
      "            x+y [x->7]...\n",
      "            x+y[x->7]  = x+y\n"
     ]
    },
    {
     "data": {
      "text/plain": [
       "'x+y'"
      ]
     },
     "execution_count": 7,
     "metadata": {},
     "output_type": "execute_result"
    }
   ],
   "source": [
    "my_eval(\"λx.(x+y) 7\",debug=True)"
   ]
  },
  {
   "cell_type": "markdown",
   "metadata": {},
   "source": [
    "We will now go over the examples in the lecture. We use `table` for our table of names."
   ]
  },
  {
   "cell_type": "markdown",
   "metadata": {},
   "source": [
    "We had the following question:\n",
    "\n",
    "__Question:__ Suppose that $F = \\lambda f. (\\lambda x. (f x)f)$, $1 = \\lambda x.(\\lambda y.x)$ and $0=\\lambda x.(\\lambda y.y)$.\n",
    "What is $F \\; 1\\; 0$?\n",
    "\n",
    "__a.__ $1$\n",
    "\n",
    "__b.__ $0$\n",
    "\n",
    "__c.__ $\\lambda x.1$\n",
    "\n",
    "__d.__ $\\lambda x.0$\n"
   ]
  },
  {
   "cell_type": "markdown",
   "metadata": {},
   "source": [
    "We can answer this question by trying this out"
   ]
  },
  {
   "cell_type": "code",
   "execution_count": 8,
   "metadata": {
    "collapsed": true
   },
   "outputs": [],
   "source": [
    "table = {}\n",
    "\n",
    "table[\"0\"]=\"λx.(λy.(y))\"\n",
    "table[\"1\"]=\"λx.(λy.(x))\"\n",
    "table[\"F\"]=\"λf.(λx.((f x) f))\""
   ]
  },
  {
   "cell_type": "code",
   "execution_count": 9,
   "metadata": {},
   "outputs": [
    {
     "data": {
      "text/plain": [
       "'λx.(λy.(y))'"
      ]
     },
     "execution_count": 9,
     "metadata": {},
     "output_type": "execute_result"
    }
   ],
   "source": [
    "my_eval(\"(F 1) 0\",table,False)"
   ]
  },
  {
   "cell_type": "markdown",
   "metadata": {},
   "source": [
    "Which is the same as $0$"
   ]
  },
  {
   "cell_type": "code",
   "execution_count": 10,
   "metadata": {
    "collapsed": true
   },
   "outputs": [],
   "source": [
    "table = {}\n",
    "\n",
    "table[\"0\"]=\"λx.(λy.(y))\"\n",
    "table[\"1\"]=\"λx.(λy.(x))\"\n",
    "table[\"NIL\"]=\"λf.(1)\"\n",
    "table[\"PAIR\"]=\"λx.(λy.(λf.((f x) y)))\"\n",
    "table[\"ISEMPTY\"]=\"λP.(P (λx.(λy.(0))))\"\n",
    "table[\"HEAD\"]=\"λP.(P 1)\"\n",
    "table[\"TAIL\"]=\"λP.(P 0)\""
   ]
  },
  {
   "cell_type": "code",
   "execution_count": 11,
   "metadata": {},
   "outputs": [
    {
     "data": {
      "text/plain": [
       "'λx.(λy.(y))'"
      ]
     },
     "execution_count": 11,
     "metadata": {},
     "output_type": "execute_result"
    }
   ],
   "source": [
    "my_eval(\"0 1 0\",table,False)"
   ]
  },
  {
   "cell_type": "markdown",
   "metadata": {},
   "source": [
    "Now for the parity example."
   ]
  },
  {
   "cell_type": "markdown",
   "metadata": {},
   "source": [
    "Recall that we defined\n",
    "\n",
    "$$APAR \\;\\;\\;  = \\lambda f,L. (ISNIL \\; L)\\; 0 \\; (XOR \\; (HEAD \\; L) \\; (f \\; f \\; (TAIL \\; L)) \\color{green}{(**)}$$"
   ]
  },
  {
   "cell_type": "markdown",
   "metadata": {},
   "source": [
    "We first note that we can define XOR in the lambda calculus as follows\n",
    "\n",
    "$$XOR = \\lambda a,b.a(b 1 0)b$$"
   ]
  },
  {
   "cell_type": "code",
   "execution_count": 12,
   "metadata": {
    "collapsed": true
   },
   "outputs": [],
   "source": [
    "# table[\"XOR\"]=\"λvar.(λb.(var (b 0 1) b))\"\n",
    "table[\"XOR\"]=\"λvar.(λb.(var (b λz.(λw.w) λt.(λs.t)) b))\""
   ]
  },
  {
   "cell_type": "code",
   "execution_count": 13,
   "metadata": {},
   "outputs": [
    {
     "data": {
      "text/plain": [
       "'λt.(λs.(t))'"
      ]
     },
     "execution_count": 13,
     "metadata": {},
     "output_type": "execute_result"
    }
   ],
   "source": [
    "my_eval(\"(XOR 1) 1\",table,False)"
   ]
  },
  {
   "cell_type": "code",
   "execution_count": 14,
   "metadata": {},
   "outputs": [
    {
     "data": {
      "text/plain": [
       "'λb.(b λx.(λy.(y)) λx.(λy.(x)))'"
      ]
     },
     "execution_count": 14,
     "metadata": {},
     "output_type": "execute_result"
    }
   ],
   "source": [
    "my_eval(\"(λb.(1 (b 0 1) b))\",table)"
   ]
  },
  {
   "cell_type": "code",
   "execution_count": 15,
   "metadata": {},
   "outputs": [
    {
     "data": {
      "text/plain": [
       "'λx.(λy.(y))'"
      ]
     },
     "execution_count": 15,
     "metadata": {},
     "output_type": "execute_result"
    }
   ],
   "source": [
    "my_eval(\"λhello.(hello λx.(λy.(x)) hello) 0\",table)"
   ]
  },
  {
   "cell_type": "code",
   "execution_count": 16,
   "metadata": {},
   "outputs": [
    {
     "data": {
      "text/plain": [
       "'λx.(λy.(y))'"
      ]
     },
     "execution_count": 16,
     "metadata": {},
     "output_type": "execute_result"
    }
   ],
   "source": [
    "my_eval(\"(0 λx.(λy.(x)) 0)\",table)"
   ]
  },
  {
   "cell_type": "code",
   "execution_count": 17,
   "metadata": {
    "collapsed": true
   },
   "outputs": [],
   "source": [
    "table[\"APAR\"]=\"λf.(λL.((ISEMPTY L) 0 (XOR (HEAD L) ((f f) (TAIL L)))))\"\n"
   ]
  },
  {
   "cell_type": "code",
   "execution_count": 18,
   "metadata": {},
   "outputs": [
    {
     "data": {
      "text/plain": [
       "'λx.(λy.(y))'"
      ]
     },
     "execution_count": 18,
     "metadata": {},
     "output_type": "execute_result"
    }
   ],
   "source": [
    "my_eval(\"TAIL (PAIR 1 0)\",table)"
   ]
  },
  {
   "cell_type": "code",
   "execution_count": 19,
   "metadata": {},
   "outputs": [
    {
     "data": {
      "text/plain": [
       "{'0': 'λx.(λy.(y))',\n",
       " '1': 'λx.(λy.(x))',\n",
       " 'APAR': 'λf.(λL.((ISEMPTY L) 0 (XOR (HEAD L) ((f f) (TAIL L)))))',\n",
       " 'HEAD': 'λP.(P 1)',\n",
       " 'ISEMPTY': 'λP.(P (λx.(λy.(0))))',\n",
       " 'NIL': 'λf.(1)',\n",
       " 'PAIR': 'λx.(λy.(λf.((f x) y)))',\n",
       " 'TAIL': 'λP.(P 0)',\n",
       " 'XOR': 'λvar.(λb.(var (b λz.(λw.w) λt.(λs.t)) b))'}"
      ]
     },
     "execution_count": 19,
     "metadata": {},
     "output_type": "execute_result"
    }
   ],
   "source": [
    "table"
   ]
  },
  {
   "cell_type": "code",
   "execution_count": 20,
   "metadata": {},
   "outputs": [
    {
     "data": {
      "text/plain": [
       "'λx.(λy.(x))'"
      ]
     },
     "execution_count": 20,
     "metadata": {},
     "output_type": "execute_result"
    }
   ],
   "source": [
    "my_eval(\"1\",table)"
   ]
  },
  {
   "cell_type": "code",
   "execution_count": 21,
   "metadata": {},
   "outputs": [
    {
     "data": {
      "text/plain": [
       "'b'"
      ]
     },
     "execution_count": 21,
     "metadata": {},
     "output_type": "execute_result"
    }
   ],
   "source": [
    "my_eval(\"ISEMPTY (PAIR 0 1) a b\",table)"
   ]
  },
  {
   "cell_type": "code",
   "execution_count": 22,
   "metadata": {},
   "outputs": [
    {
     "data": {
      "text/plain": [
       "'λL.(L λx.(λy.(λx.(λy.(y)))) λx.(λy.(y)) L λx.(λy.(x)) λf.(λL.(L λx.(λy.(λx.(λy.(y)))) λx.(λy.(y)) L λx.(λy.(x)) f f L λx.(λy.(y)) λz.(λw.(w)) λt.(λs.(t)) f f L λx.(λy.(y)))) λf.(λL.(L λx.(λy.(λx.(λy.(y)))) λx.(λy.(y)) L λx.(λy.(x)) f f L λx.(λy.(y)) λz.(λw.(w)) λt.(λs.(t)) f f L λx.(λy.(y)))) L λx.(λy.(y)) λz.(λw.(w)) λt.(λs.(t)) λf.(λL.(L λx.(λy.(λx.(λy.(y)))) λx.(λy.(y)) L λx.(λy.(x)) f f L λx.(λy.(y)) λz.(λw.(w)) λt.(λs.(t)) f f L λx.(λy.(y)))) λf.(λL.(L λx.(λy.(λx.(λy.(y)))) λx.(λy.(y)) L λx.(λy.(x)) f f L λx.(λy.(y)) λz.(λw.(w)) λt.(λs.(t)) f f L λx.(λy.(y)))) L λx.(λy.(y)))'"
      ]
     },
     "execution_count": 22,
     "metadata": {},
     "output_type": "execute_result"
    }
   ],
   "source": [
    "my_eval(\"APAR APAR\",table,False)"
   ]
  },
  {
   "cell_type": "code",
   "execution_count": 23,
   "metadata": {},
   "outputs": [
    {
     "ename": "KeyboardInterrupt",
     "evalue": "",
     "output_type": "error",
     "traceback": [
      " "
     ]
    }
   ],
   "source": [
    "my_eval(\"(APAR APAR) NIL\",table)"
   ]
  },
  {
   "cell_type": "code",
   "execution_count": 24,
   "metadata": {},
   "outputs": [
    {
     "data": {
      "text/plain": [
       "'λx.(λy.(y))'"
      ]
     },
     "execution_count": 24,
     "metadata": {},
     "output_type": "execute_result"
    }
   ],
   "source": [
    "my_eval(\"(APAR APAR) (PAIR 0 (PAIR 1 NIL))\",table, False)"
   ]
  },
  {
   "cell_type": "code",
   "execution_count": null,
   "metadata": {
    "collapsed": true
   },
   "outputs": [],
   "source": [
    "list_lambdas('f λx.(λy.(x))')"
   ]
  },
  {
   "cell_type": "code",
   "execution_count": null,
   "metadata": {
    "collapsed": true
   },
   "outputs": [],
   "source": [
    "eval_lambda(\"NIL\",table)"
   ]
  },
  {
   "cell_type": "code",
   "execution_count": 25,
   "metadata": {
    "collapsed": true
   },
   "outputs": [],
   "source": [
    "table[\"YCOMB\"] = \"λf.((λx.(f (x x))) (λy.(f (y y))))\""
   ]
  },
  {
   "cell_type": "code",
   "execution_count": 26,
   "metadata": {
    "collapsed": true
   },
   "outputs": [],
   "source": [
    "table[\"REC\"] = \"λf.(λL.(((ISEMPTY L) 0) (XOR (HEAD L) (f (TAIL L)))))\""
   ]
  },
  {
   "cell_type": "code",
   "execution_count": 27,
   "metadata": {},
   "outputs": [
    {
     "data": {
      "text/plain": [
       "'λx.(λy.(y))'"
      ]
     },
     "execution_count": 27,
     "metadata": {},
     "output_type": "execute_result"
    }
   ],
   "source": [
    "my_eval(\"YCOMB REC\",table)"
   ]
  },
  {
   "cell_type": "code",
   "execution_count": 28,
   "metadata": {},
   "outputs": [
    {
     "data": {
      "text/plain": [
       "'λx.(λy.(y))'"
      ]
     },
     "execution_count": 28,
     "metadata": {},
     "output_type": "execute_result"
    }
   ],
   "source": [
    "my_eval(\"(XOR 0 0)\",table)"
   ]
  },
  {
   "cell_type": "code",
   "execution_count": 29,
   "metadata": {},
   "outputs": [
    {
     "data": {
      "text/plain": [
       "'λf.(f 9 λf.(f 11 12))'"
      ]
     },
     "execution_count": 29,
     "metadata": {},
     "output_type": "execute_result"
    }
   ],
   "source": [
    "my_eval(\"TAIL (PAIR 7 (PAIR 9 (PAIR 11 12)))\",table)"
   ]
  },
  {
   "cell_type": "code",
   "execution_count": 30,
   "metadata": {},
   "outputs": [
    {
     "data": {
      "text/plain": [
       "'λx.(λy.(y))'"
      ]
     },
     "execution_count": 30,
     "metadata": {},
     "output_type": "execute_result"
    }
   ],
   "source": [
    "my_eval(\"ISEMPTY (PAIR 0 1)\",table)"
   ]
  },
  {
   "cell_type": "code",
   "execution_count": 31,
   "metadata": {},
   "outputs": [
    {
     "data": {
      "text/plain": [
       "'λy.(y)'"
      ]
     },
     "execution_count": 31,
     "metadata": {},
     "output_type": "execute_result"
    }
   ],
   "source": [
    "my_eval(\"(YCOMB REC) (PAIR 0 NIL)\",table)"
   ]
  },
  {
   "cell_type": "code",
   "execution_count": null,
   "metadata": {
    "collapsed": true
   },
   "outputs": [],
   "source": []
  },
  {
   "cell_type": "code",
   "execution_count": null,
   "metadata": {
    "collapsed": true
   },
   "outputs": [],
   "source": []
  }
 ],
 "metadata": {
  "kernelspec": {
   "display_name": "Python 3",
   "language": "python",
   "name": "python3"
  },
  "language_info": {
   "codemirror_mode": {
    "name": "ipython",
    "version": 3
   },
   "file_extension": ".py",
   "mimetype": "text/x-python",
   "name": "python",
   "nbconvert_exporter": "python",
   "pygments_lexer": "ipython3",
   "version": "3.6.1"
  }
 },
 "nbformat": 4,
 "nbformat_minor": 2
}
